{
 "cells": [
  {
   "cell_type": "code",
   "execution_count": 1,
   "metadata": {
    "gather": {
     "logged": 1598275788035
    }
   },
   "outputs": [
    {
     "name": "stdout",
     "output_type": "stream",
     "text": [
      "Workspace name: udacity-demo\n",
      "Azure region: centralus\n",
      "Subscription id: c5da1480-248e-4cc5-ba27-697bc9911ecf\n",
      "Resource group: udacity-demo\n"
     ]
    }
   ],
   "source": [
    "from azureml.core import Workspace, Experiment\n",
    "\n",
    "ws = Workspace.from_config()\n",
    "exp = Experiment(workspace=ws, name=\"udacity-project\")\n",
    "\n",
    "print('Workspace name: ' + ws.name, \n",
    "      'Azure region: ' + ws.location, \n",
    "      'Subscription id: ' + ws.subscription_id, \n",
    "      'Resource group: ' + ws.resource_group, sep = '\\n')\n",
    "\n",
    "run = exp.start_logging()"
   ]
  },
  {
   "cell_type": "code",
   "execution_count": 2,
   "metadata": {
    "gather": {
     "logged": 1598275788675
    },
    "jupyter": {
     "outputs_hidden": false,
     "source_hidden": false
    },
    "nteract": {
     "transient": {
      "deleting": false
     }
    }
   },
   "outputs": [
    {
     "name": "stdout",
     "output_type": "stream",
     "text": [
      "Cluster is existing\n"
     ]
    }
   ],
   "source": [
    "from azureml.core.compute import ComputeTarget, AmlCompute\n",
    "\n",
    "cluster_name = \"demo-cluster\"\n",
    "\n",
    "compute_config = AmlCompute.provisioning_configuration(\n",
    "    vm_size = \"STANDARD_D2_V2\",\n",
    "    min_nodes=0,\n",
    "    max_nodes=4,\n",
    ")\n",
    "\n",
    "try:\n",
    "    clusterhandler = ComputeTarget(workspace=ws, name=cluster_name)\n",
    "    print(\"Cluster is existing\")\n",
    "except:\n",
    "    print(\"Could not find cluster\")\n",
    "    clusterhandler = ComputeTarget.create(workspace=ws, name=cluster_name, provisioning_configuration=compute_config)\n",
    "clusterhandler.wait_for_completion()\n",
    "# TODO: Create compute cluster\n",
    "# Use vm_size = \"Standard_D2_V2\" in your provisioning configuration.\n",
    "# max_nodes should be no greater than 4.\n",
    "\n",
    "### YOUR CODE HERE ###\n"
   ]
  },
  {
   "cell_type": "code",
   "execution_count": 3,
   "metadata": {
    "gather": {
     "logged": 1598275789986
    },
    "jupyter": {
     "outputs_hidden": false,
     "source_hidden": false
    },
    "nteract": {
     "transient": {
      "deleting": false
     }
    }
   },
   "outputs": [
    {
     "name": "stdout",
     "output_type": "stream",
     "text": [
      "TabularDataset\n",
      "{\n",
      "  \"source\": [\n",
      "    \"https://automlsamplenotebookdata.blob.core.windows.net/automl-sample-notebook-data/bankmarketing_train.csv\"\n",
      "  ],\n",
      "  \"definition\": [\n",
      "    \"GetFiles\",\n",
      "    \"ParseDelimited\",\n",
      "    \"DropColumns\",\n",
      "    \"SetColumnTypes\"\n",
      "  ]\n",
      "}\n"
     ]
    }
   ],
   "source": [
    "from azureml.data.dataset_factory import TabularDatasetFactory\n",
    "\n",
    "# Create TabularDataset using TabularDatasetFactory\n",
    "# Data is available at: \n",
    "# \"https://automlsamplenotebookdata.blob.core.windows.net/automl-sample-notebook-data/bankmarketing_train.csv\"\n",
    "\n",
    "### YOUR CODE HERE ###\n",
    "dataset_link = \"https://automlsamplenotebookdata.blob.core.windows.net/automl-sample-notebook-data/bankmarketing_train.csv\"\n",
    "ds = TabularDatasetFactory.from_delimited_files(path=dataset_link)\n",
    "print(ds)"
   ]
  },
  {
   "cell_type": "code",
   "execution_count": 4,
   "metadata": {},
   "outputs": [
    {
     "name": "stdout",
     "output_type": "stream",
     "text": [
      "end of clean data\n"
     ]
    }
   ],
   "source": [
    "from train import clean_data\n",
    "\n",
    "# Use the clean_data function to clean your data.\n",
    "x, y = clean_data(ds)"
   ]
  },
  {
   "cell_type": "code",
   "execution_count": 5,
   "metadata": {
    "gather": {
     "logged": 1598276310862
    },
    "jupyter": {
     "outputs_hidden": false,
     "source_hidden": false
    },
    "nteract": {
     "transient": {
      "deleting": false
     }
    }
   },
   "outputs": [
    {
     "name": "stdout",
     "output_type": "stream",
     "text": [
      "done\n"
     ]
    }
   ],
   "source": [
    "from azureml.train.automl import AutoMLConfig\n",
    "\n",
    "# Set parameters for AutoMLConfig\n",
    "# NOTE: DO NOT CHANGE THE experiment_timeout_minutes PARAMETER OR YOUR INSTANCE WILL TIME OUT.\n",
    "# If you wish to run the experiment longer, you will need to run this notebook in your own\n",
    "# Azure tenant, which will incur personal costs.\n",
    "automl_config = AutoMLConfig(\n",
    "    primary_metric=\"accuracy\",\n",
    "    task='classification',\n",
    "    experiment_timeout_minutes=20,\n",
    "    training_data=ds,\n",
    "    label_column_name='y',\n",
    "    n_cross_validations=3,\n",
    "    compute_target=clusterhandler\n",
    ")\n",
    "print(\"done\")"
   ]
  },
  {
   "cell_type": "code",
   "execution_count": 6,
   "metadata": {},
   "outputs": [
    {
     "name": "stdout",
     "output_type": "stream",
     "text": [
      "Submitting remote run.\n"
     ]
    },
    {
     "data": {
      "text/html": [
       "<table style=\"width:100%\"><tr><th>Experiment</th><th>Id</th><th>Type</th><th>Status</th><th>Details Page</th><th>Docs Page</th></tr><tr><td>udacity-project</td><td>AutoML_afbba018-e7b9-43d7-9ac2-b5478f6836fd</td><td>automl</td><td>NotStarted</td><td><a href=\"https://ml.azure.com/runs/AutoML_afbba018-e7b9-43d7-9ac2-b5478f6836fd?wsid=/subscriptions/c5da1480-248e-4cc5-ba27-697bc9911ecf/resourcegroups/udacity-demo/workspaces/udacity-demo&amp;tid=db05faca-c82a-4b9d-b9c5-0f64b6755421\" target=\"_blank\" rel=\"noopener\">Link to Azure Machine Learning studio</a></td><td><a href=\"https://docs.microsoft.com/en-us/python/api/overview/azure/ml/intro?view=azure-ml-py\" target=\"_blank\" rel=\"noopener\">Link to Documentation</a></td></tr></table>"
      ]
     },
     "metadata": {},
     "output_type": "display_data"
    },
    {
     "data": {
      "application/vnd.jupyter.widget-view+json": {
       "model_id": "518f3ac5d9f04f1da7b16f550f423141",
       "version_major": 2,
       "version_minor": 0
      },
      "text/plain": [
       "_AutoMLWidget(widget_settings={'childWidgetDisplay': 'popup', 'send_telemetry': False, 'log_level': 'INFO', 's…"
      ]
     },
     "metadata": {},
     "output_type": "display_data"
    },
    {
     "data": {
      "application/aml.mini.widget.v1": "{\"status\": \"Completed\", \"workbench_run_details_uri\": \"https://ml.azure.com/runs/AutoML_afbba018-e7b9-43d7-9ac2-b5478f6836fd?wsid=/subscriptions/c5da1480-248e-4cc5-ba27-697bc9911ecf/resourcegroups/udacity-demo/workspaces/udacity-demo&tid=db05faca-c82a-4b9d-b9c5-0f64b6755421\", \"run_id\": \"AutoML_afbba018-e7b9-43d7-9ac2-b5478f6836fd\", \"run_properties\": {\"run_id\": \"AutoML_afbba018-e7b9-43d7-9ac2-b5478f6836fd\", \"created_utc\": \"2024-05-19T18:01:37.387889Z\", \"properties\": {\"num_iterations\": \"1000\", \"training_type\": \"TrainFull\", \"acquisition_function\": \"EI\", \"primary_metric\": \"accuracy\", \"train_split\": \"0\", \"acquisition_parameter\": \"0\", \"num_cross_validation\": \"3\", \"target\": \"demo-cluster\", \"AMLSettingsJsonString\": \"{\\\"path\\\":null,\\\"name\\\":\\\"udacity-project\\\",\\\"subscription_id\\\":\\\"c5da1480-248e-4cc5-ba27-697bc9911ecf\\\",\\\"resource_group\\\":\\\"udacity-demo\\\",\\\"workspace_name\\\":\\\"udacity-demo\\\",\\\"region\\\":\\\"centralus\\\",\\\"compute_target\\\":\\\"demo-cluster\\\",\\\"spark_service\\\":null,\\\"azure_service\\\":\\\"remote\\\",\\\"many_models\\\":false,\\\"pipeline_fetch_max_batch_size\\\":1,\\\"enable_batch_run\\\":true,\\\"enable_parallel_run\\\":false,\\\"num_procs\\\":null,\\\"enable_run_restructure\\\":false,\\\"start_auxiliary_runs_before_parent_complete\\\":false,\\\"enable_code_generation\\\":true,\\\"iterations\\\":1000,\\\"primary_metric\\\":\\\"accuracy\\\",\\\"task_type\\\":\\\"classification\\\",\\\"positive_label\\\":null,\\\"data_script\\\":null,\\\"test_size\\\":0.0,\\\"test_include_predictions_only\\\":false,\\\"validation_size\\\":0.0,\\\"n_cross_validations\\\":3,\\\"y_min\\\":null,\\\"y_max\\\":null,\\\"num_classes\\\":null,\\\"featurization\\\":\\\"auto\\\",\\\"_ignore_package_version_incompatibilities\\\":false,\\\"is_timeseries\\\":false,\\\"max_cores_per_iteration\\\":1,\\\"max_concurrent_iterations\\\":1,\\\"iteration_timeout_minutes\\\":null,\\\"mem_in_mb\\\":null,\\\"enforce_time_on_windows\\\":false,\\\"experiment_timeout_minutes\\\":20,\\\"experiment_exit_score\\\":null,\\\"partition_column_names\\\":null,\\\"whitelist_models\\\":null,\\\"blacklist_algos\\\":[\\\"TensorFlowLinearClassifier\\\",\\\"TensorFlowDNN\\\"],\\\"supported_models\\\":[\\\"XGBoostClassifier\\\",\\\"ExtremeRandomTrees\\\",\\\"LogisticRegression\\\",\\\"GradientBoosting\\\",\\\"RandomForest\\\",\\\"TensorFlowDNN\\\",\\\"LinearSVM\\\",\\\"SGD\\\",\\\"AveragedPerceptronClassifier\\\",\\\"SVM\\\",\\\"LightGBM\\\",\\\"DecisionTree\\\",\\\"TabnetClassifier\\\",\\\"KNN\\\",\\\"BernoulliNaiveBayes\\\",\\\"TensorFlowLinearClassifier\\\",\\\"MultinomialNaiveBayes\\\"],\\\"private_models\\\":[],\\\"auto_blacklist\\\":true,\\\"blacklist_samples_reached\\\":false,\\\"exclude_nan_labels\\\":true,\\\"verbosity\\\":20,\\\"_debug_log\\\":\\\"azureml_automl.log\\\",\\\"show_warnings\\\":false,\\\"model_explainability\\\":true,\\\"service_url\\\":null,\\\"sdk_url\\\":null,\\\"sdk_packages\\\":null,\\\"enable_onnx_compatible_models\\\":false,\\\"enable_split_onnx_featurizer_estimator_models\\\":false,\\\"vm_type\\\":\\\"Standard_DS3_v2\\\",\\\"telemetry_verbosity\\\":20,\\\"send_telemetry\\\":true,\\\"enable_dnn\\\":false,\\\"scenario\\\":\\\"AutoML\\\",\\\"environment_label\\\":null,\\\"save_mlflow\\\":false,\\\"enable_categorical_indicators\\\":false,\\\"force_text_dnn\\\":false,\\\"enable_feature_sweeping\\\":true,\\\"enable_early_stopping\\\":true,\\\"early_stopping_n_iters\\\":10,\\\"arguments\\\":null,\\\"dataset_id\\\":\\\"ebbbb74e-48bf-4fc5-81e9-1daa637c8e15\\\",\\\"hyperdrive_config\\\":null,\\\"validation_dataset_id\\\":null,\\\"run_source\\\":null,\\\"metrics\\\":null,\\\"enable_metric_confidence\\\":false,\\\"enable_ensembling\\\":true,\\\"enable_stack_ensembling\\\":true,\\\"ensemble_iterations\\\":15,\\\"enable_tf\\\":false,\\\"enable_subsampling\\\":null,\\\"subsample_seed\\\":null,\\\"enable_nimbusml\\\":false,\\\"enable_streaming\\\":false,\\\"force_streaming\\\":false,\\\"track_child_runs\\\":true,\\\"n_best_runs\\\":1,\\\"allowed_private_models\\\":[],\\\"label_column_name\\\":\\\"y\\\",\\\"weight_column_name\\\":null,\\\"cv_split_column_names\\\":null,\\\"enable_local_managed\\\":false,\\\"_local_managed_run_id\\\":null,\\\"cost_mode\\\":1,\\\"lag_length\\\":0,\\\"metric_operation\\\":\\\"maximize\\\",\\\"preprocess\\\":true}\", \"DataPrepJsonString\": \"{\\\\\\\"training_data\\\\\\\": {\\\\\\\"datasetId\\\\\\\": \\\\\\\"ebbbb74e-48bf-4fc5-81e9-1daa637c8e15\\\\\\\"}, \\\\\\\"datasets\\\\\\\": 0}\", \"EnableSubsampling\": null, \"runTemplate\": \"AutoML\", \"azureml.runsource\": \"automl\", \"display_task_type\": \"classification\", \"dependencies_versions\": \"{\\\"azureml-dataprep-native\\\": \\\"38.0.0\\\", \\\"azureml-dataprep\\\": \\\"4.10.8\\\", \\\"azureml-dataprep-rslex\\\": \\\"2.17.12\\\", \\\"azureml-train-automl-runtime\\\": \\\"1.51.0.post2\\\", \\\"azureml-train-automl-client\\\": \\\"1.51.0.post1\\\", \\\"azureml-training-tabular\\\": \\\"1.51.0.post1\\\", \\\"azureml-automl-runtime\\\": \\\"1.51.0.post1\\\", \\\"azureml-automl-core\\\": \\\"1.51.0.post1\\\", \\\"azureml-mlflow\\\": \\\"1.51.0\\\", \\\"azureml-datadrift\\\": \\\"1.51.0\\\", \\\"azureml-pipeline\\\": \\\"1.51.0\\\", \\\"azureml-contrib-dataset\\\": \\\"1.51.0\\\", \\\"azureml-contrib-notebook\\\": \\\"1.51.0\\\", \\\"azureml-accel-models\\\": \\\"1.51.0\\\", \\\"azureml-automl-dnn-nlp\\\": \\\"1.51.0\\\", \\\"azureml-pipeline-core\\\": \\\"1.51.0\\\", \\\"azureml-responsibleai\\\": \\\"1.51.0\\\", \\\"azureml-contrib-automl-pipeline-steps\\\": \\\"1.51.0\\\", \\\"azureml-pipeline-steps\\\": \\\"1.51.0\\\", \\\"azureml-core\\\": \\\"1.51.0\\\", \\\"azureml-contrib-reinforcementlearning\\\": \\\"1.51.0\\\", \\\"azureml-contrib-server\\\": \\\"1.51.0\\\", \\\"azureml-opendatasets\\\": \\\"1.51.0\\\", \\\"azureml-contrib-services\\\": \\\"1.51.0\\\", \\\"azureml-telemetry\\\": \\\"1.51.0\\\", \\\"azureml-train-restclients-hyperdrive\\\": \\\"1.51.0\\\", \\\"azureml-interpret\\\": \\\"1.51.0\\\", \\\"azureml-train-core\\\": \\\"1.51.0\\\", \\\"azureml-tensorboard\\\": \\\"1.51.0\\\", \\\"azureml-train\\\": \\\"1.51.0\\\", \\\"azureml-contrib-pipeline-steps\\\": \\\"1.51.0\\\", \\\"azureml-explain-model\\\": \\\"1.51.0\\\", \\\"azureml-cli-common\\\": \\\"1.51.0\\\", \\\"azureml-widgets\\\": \\\"1.51.0\\\", \\\"azureml-train-automl\\\": \\\"1.51.0\\\", \\\"azureml-defaults\\\": \\\"1.51.0\\\", \\\"azureml-contrib-fairness\\\": \\\"1.51.0\\\", \\\"azureml-sdk\\\": \\\"1.51.0\\\", \\\"azureml-dataset-runtime\\\": \\\"1.51.0\\\", \\\"azureml-inference-server-http\\\": \\\"0.8.4\\\"}\", \"_aml_system_scenario_identification\": \"Remote.Parent\", \"ClientType\": \"SDK\", \"PlatformVersion\": \"DPV1\", \"environment_cpu_name\": \"AzureML-AutoML\", \"environment_cpu_label\": \"scikit-upgrade2\", \"environment_gpu_name\": \"AzureML-AutoML-GPU\", \"environment_gpu_label\": \"scikit-upgrade2\", \"root_attribution\": \"automl\", \"attribution\": \"AutoML\", \"Orchestrator\": \"AutoML\", \"CancelUri\": \"https://centralus.api.azureml.ms/jasmine/v1.0/subscriptions/c5da1480-248e-4cc5-ba27-697bc9911ecf/resourceGroups/udacity-demo/providers/Microsoft.MachineLearningServices/workspaces/udacity-demo/experimentids/c92751ba-176d-40e3-b9e3-66cc278f412e/cancel/AutoML_afbba018-e7b9-43d7-9ac2-b5478f6836fd\", \"ClientSdkVersion\": null, \"snapshotId\": \"00000000-0000-0000-0000-000000000000\", \"SetupRunId\": \"AutoML_afbba018-e7b9-43d7-9ac2-b5478f6836fd_setup\", \"SetupRunContainerId\": \"dcid.AutoML_afbba018-e7b9-43d7-9ac2-b5478f6836fd_setup\", \"FeaturizationRunJsonPath\": \"featurizer_container.json\", \"FeaturizationRunId\": \"AutoML_afbba018-e7b9-43d7-9ac2-b5478f6836fd_featurize\", \"ProblemInfoJsonString\": \"{\\\"dataset_num_categorical\\\": 0, \\\"is_sparse\\\": true, \\\"subsampling\\\": false, \\\"has_extra_col\\\": true, \\\"dataset_classes\\\": 2, \\\"dataset_features\\\": 132, \\\"dataset_samples\\\": 32950, \\\"single_frequency_class_detected\\\": false}\", \"ModelExplainRunId\": \"AutoML_afbba018-e7b9-43d7-9ac2-b5478f6836fd_ModelExplain\"}, \"tags\": {\"model_explain_run\": \"best_run\", \"_aml_system_automl_run_workspace_id\": \"30526fc0-1f67-423f-a603-e8e2798bbd0d\", \"_aml_system_azureml.automlComponent\": \"AutoML\", \"pipeline_id_000\": \"5dfac790c5c209f98a1da2dc1c7fb76f0397324f;c7af0367625be6ac5c2fecbfc72ed444cb7a2111;799d2168db11fc19b9e1c6c1df62f8981ad39fe9;44b5d2d23120dfcf96a7dc6389a293d17a966b1b;3735210984ea10097d5c91905cf6300ac278cd89;5304e705d6f401cb07f85bcf0ca59ac1f84dfcf5;294650ec23bc3d067a4972de7ceb12f6e97260fa;3caa818370e5e0c328d6266c359019bd31681270;79ebb3b8c385e3190e3dd4c1fa28b74730528045;589334a57221e0720a95cf217c065115a7b841d1;5a8eb9d9f67b1dd7e9e4062585daa2417ea78989;35b8e2db3c5f6e714072e1be9f0210fe48426975;da45f657e4591caadf1589a85a1f7b8932585595;797e3e972ad02d947be4c64d2b06b775b6df7a49;3fd2e115482e0c7b92aa3297688aefb6c3aa6fb8;1dfdf370ba770047b14bfa59c40920815defcdab;5235e3d56688f5f38ef82d73fba7c2e698fc1af2;17f87d449bb43aaf3cdae4b7eb6dd6e7fbdaf343;dc68fbd594530b5d52812dd9b3ffa3d6d8ba625e;2032292dd602836ed754a266c771ac100c4c80dc;fedbb4995d6de479c513576119965d71276f03d1;e478544eb8734c07a1943f5bdf4e6605be6943df;5194a9d0942f72c6daccbdc5217e1592996a8271;2fe8e91e8531602c28022f333ac69982d13bcbd6;d3812cd4cae6f09e5e02cdc7a9531db57c836045;806604b9b093124aa0c08f7b5ef32811d23b0817;d6c229673f6de58ae86c40c49548df556b760ffd;6a4b6871738411e17491b1e25e7885ae7c0fc1b0;052df3cb522276dd5ad86b2c0e4f461188f75b8c;__AutoML_Ensemble__;__AutoML_Stack_Ensemble__\", \"score_000\": \"0.9151744965408922;0.9112897463397548;0.7277387069340672;0.9145674757411072;0.9137784354628531;0.8883459196037965;0.908133554832595;0.9084369712869501;0.8889225766533139;0.9129590452498517;0.9051896222144901;0.9131714975561892;0.9088315121493574;0.8539000450872264;0.9136873193441133;0.8169651139547209;0.9081031358202463;0.9009103974654423;0.9119574918769716;0.8147192906241005;0.8306525780854859;0.9134446082854616;0.914779958441589;0.8879513842675975;0.9153869101637732;0.8879513842675975;0.9111987628500087;0.9104400061920056;0.9097724209148231;0.9186645843030448;0.9159939088587259\", \"predicted_cost_000\": \"0;0;0.5;0.5;0.5;0.5;0.5;0.5;0.5;0.5;0.5;0.5;0.5;0.5;0.5;0.5;0.5;0.5;0.5;0.5;10.958602193434027;0.81469412500392;1.4868014190233645;0.18219405156577825;3.93604370302057;0.02660747848870623;0.48233699344793574;7.555115804489751;0.5319832305353059;0;0\", \"fit_time_000\": \"0.4157916666666667;2.2768906666666666;0.9892546666666666;1.2451516666666664;0.1839876666666667;0.12291033333333333;0.5028373333333334;0.8988096666666666;0.2708376666666667;0.352441;0.19105466666666668;0.34744233333333335;0.9164469999999999;0.08185566666666666;0.6220829999999999;3.212675666666667;0.26837300000000003;1.2244246666666667;0.9352226666666666;21.160706333333334;31.962449000000003;0.6265506666666666;1.475892;0.11155133333333334;5.4814739999999995;0.2140426666666667;0.40272900000000006;5.6349659999999995;0.19332399999999997;27;32\", \"training_percent_000\": \"100;100;100;100;100;100;100;100;100;100;100;100;100;100;100;100;100;100;100;100;100;100;100;100;100;100;100;100;100;100;100\", \"iteration_000\": \"0;1;2;3;4;5;6;7;8;9;10;11;12;13;14;15;16;17;18;19;20;21;22;23;24;25;26;27;28;29;30\", \"run_preprocessor_000\": \"MaxAbsScaler;MaxAbsScaler;MaxAbsScaler;SparseNormalizer;MaxAbsScaler;MaxAbsScaler;StandardScalerWrapper;MaxAbsScaler;StandardScalerWrapper;StandardScalerWrapper;SparseNormalizer;StandardScalerWrapper;MaxAbsScaler;MaxAbsScaler;StandardScalerWrapper;SparseNormalizer;StandardScalerWrapper;StandardScalerWrapper;StandardScalerWrapper;TruncatedSVDWrapper;TruncatedSVDWrapper;StandardScalerWrapper;StandardScalerWrapper;MaxAbsScaler;StandardScalerWrapper;StandardScalerWrapper;MaxAbsScaler;StandardScalerWrapper;StandardScalerWrapper;;\", \"run_algorithm_000\": \"LightGBM;XGBoostClassifier;ExtremeRandomTrees;XGBoostClassifier;LightGBM;LightGBM;XGBoostClassifier;LogisticRegression;ExtremeRandomTrees;XGBoostClassifier;LightGBM;XGBoostClassifier;LogisticRegression;SGD;XGBoostClassifier;RandomForest;LogisticRegression;RandomForest;XGBoostClassifier;RandomForest;RandomForest;XGBoostClassifier;LightGBM;LightGBM;XGBoostClassifier;XGBoostClassifier;LightGBM;XGBoostClassifier;LightGBM;VotingEnsemble;StackEnsemble\", \"dynamic_allowlisting_iterations\": \"<25>;\", \"_aml_system_azureml.automl_early_exit_message\": \"Experiment timeout reached, hence experiment stopped. Current experiment timeout: 0 hour(s) 20 minute(s)\", \"automl_best_child_run_id\": \"AutoML_afbba018-e7b9-43d7-9ac2-b5478f6836fd_29\", \"model_explain_best_run_child_id\": \"AutoML_afbba018-e7b9-43d7-9ac2-b5478f6836fd_29\"}, \"end_time_utc\": \"2024-05-19T18:30:41.100661Z\", \"status\": \"Completed\", \"log_files\": {}, \"log_groups\": [], \"run_duration\": \"0:29:03\", \"run_number\": \"1716141697\", \"run_queued_details\": {\"status\": \"Completed\", \"details\": null}}, \"child_runs\": [{\"run_id\": \"AutoML_afbba018-e7b9-43d7-9ac2-b5478f6836fd_setup\", \"run_number\": 1716141708, \"metric\": null, \"status\": \"Completed\", \"run_type\": \"azureml.scriptrun\", \"training_percent\": null, \"start_time\": \"2024-05-19T18:02:10.409818Z\", \"end_time\": \"2024-05-19T18:03:56.581285Z\", \"created_time\": \"2024-05-19T18:01:48.951885Z\", \"created_time_dt\": \"2024-05-19T18:01:48.951885Z\", \"duration\": \"0:02:07\", \"iteration\": null, \"goal\": null, \"run_name\": \"Completed\", \"run_properties\": null}, {\"run_id\": \"AutoML_afbba018-e7b9-43d7-9ac2-b5478f6836fd_featurize\", \"run_number\": 1716141836, \"metric\": null, \"status\": \"Completed\", \"run_type\": \"automl.featurization\", \"training_percent\": null, \"start_time\": \"2024-05-19T18:03:57.280958Z\", \"end_time\": \"2024-05-19T18:07:46.855227Z\", \"created_time\": \"2024-05-19T18:03:56.972347Z\", \"created_time_dt\": \"2024-05-19T18:03:56.972347Z\", \"duration\": \"0:03:49\", \"iteration\": null, \"goal\": null, \"run_name\": \"Completed\", \"run_properties\": null}, {\"run_id\": \"AutoML_afbba018-e7b9-43d7-9ac2-b5478f6836fd_0\", \"run_number\": 1716142068, \"metric\": null, \"status\": \"Completed\", \"run_type\": null, \"training_percent\": \"100\", \"start_time\": \"2024-05-19T18:08:26.0334Z\", \"end_time\": \"2024-05-19T18:08:40.09032Z\", \"created_time\": \"2024-05-19T18:07:48.221135Z\", \"created_time_dt\": \"2024-05-19T18:07:48.221135Z\", \"duration\": \"0:00:51\", \"iteration\": \"0\", \"goal\": \"accuracy_max\", \"run_name\": \"MaxAbsScaler, LightGBM\", \"run_properties\": \"copy=True\", \"primary_metric\": 0.9151745, \"best_metric\": 0.9151745}, {\"run_id\": \"AutoML_afbba018-e7b9-43d7-9ac2-b5478f6836fd_3\", \"run_number\": 1716142069, \"metric\": null, \"status\": \"Completed\", \"run_type\": null, \"training_percent\": \"100\", \"start_time\": \"2024-05-19T18:09:17.685014Z\", \"end_time\": \"2024-05-19T18:09:33.506167Z\", \"created_time\": \"2024-05-19T18:07:49.335023Z\", \"created_time_dt\": \"2024-05-19T18:07:49.335023Z\", \"duration\": \"0:01:44\", \"iteration\": \"3\", \"goal\": \"accuracy_max\", \"run_name\": \"SparseNormalizer, XGBoostClassifier\", \"run_properties\": \"copy=True, norm='l2'\", \"primary_metric\": 0.91456748, \"best_metric\": 0.9151745}, {\"run_id\": \"AutoML_afbba018-e7b9-43d7-9ac2-b5478f6836fd_5\", \"run_number\": 1716142070, \"metric\": null, \"status\": \"Completed\", \"run_type\": null, \"training_percent\": \"100\", \"start_time\": \"2024-05-19T18:09:45.95394Z\", \"end_time\": \"2024-05-19T18:09:56.654447Z\", \"created_time\": \"2024-05-19T18:07:50.16985Z\", \"created_time_dt\": \"2024-05-19T18:07:50.16985Z\", \"duration\": \"0:02:06\", \"iteration\": \"5\", \"goal\": \"accuracy_max\", \"run_name\": \"MaxAbsScaler, LightGBM\", \"run_properties\": \"copy=True\", \"primary_metric\": 0.88834592, \"best_metric\": 0.9151745}, {\"run_id\": \"AutoML_afbba018-e7b9-43d7-9ac2-b5478f6836fd_8\", \"run_number\": 1716142071, \"metric\": null, \"status\": \"Completed\", \"run_type\": null, \"training_percent\": \"100\", \"start_time\": \"2024-05-19T18:10:25.534267Z\", \"end_time\": \"2024-05-19T18:10:37.490356Z\", \"created_time\": \"2024-05-19T18:07:51.315869Z\", \"created_time_dt\": \"2024-05-19T18:07:51.315869Z\", \"duration\": \"0:02:46\", \"iteration\": \"8\", \"goal\": \"accuracy_max\", \"run_name\": \"StandardScalerWrapper, ExtremeRandomTrees\", \"run_properties\": \"copy=True, with_mean=False, with_std=False\", \"primary_metric\": 0.88892258, \"best_metric\": 0.9151745}, {\"run_id\": \"AutoML_afbba018-e7b9-43d7-9ac2-b5478f6836fd_10\", \"run_number\": 1716142072, \"metric\": null, \"status\": \"Completed\", \"run_type\": null, \"training_percent\": \"100\", \"start_time\": \"2024-05-19T18:10:50.452068Z\", \"end_time\": \"2024-05-19T18:11:01.530038Z\", \"created_time\": \"2024-05-19T18:07:52.058412Z\", \"created_time_dt\": \"2024-05-19T18:07:52.058412Z\", \"duration\": \"0:03:09\", \"iteration\": \"10\", \"goal\": \"accuracy_max\", \"run_name\": \"SparseNormalizer, LightGBM\", \"run_properties\": \"copy=True, norm='l1'\", \"primary_metric\": 0.90518962, \"best_metric\": 0.9151745}, {\"run_id\": \"AutoML_afbba018-e7b9-43d7-9ac2-b5478f6836fd_13\", \"run_number\": 1716142073, \"metric\": null, \"status\": \"Completed\", \"run_type\": null, \"training_percent\": \"100\", \"start_time\": \"2024-05-19T18:11:29.527352Z\", \"end_time\": \"2024-05-19T18:11:40.068881Z\", \"created_time\": \"2024-05-19T18:07:53.220366Z\", \"created_time_dt\": \"2024-05-19T18:07:53.220366Z\", \"duration\": \"0:03:46\", \"iteration\": \"13\", \"goal\": \"accuracy_max\", \"run_name\": \"MaxAbsScaler, SGD\", \"run_properties\": \"copy=True\", \"primary_metric\": 0.85390005, \"best_metric\": 0.9151745}, {\"run_id\": \"AutoML_afbba018-e7b9-43d7-9ac2-b5478f6836fd_15\", \"run_number\": 1716142074, \"metric\": null, \"status\": \"Completed\", \"run_type\": null, \"training_percent\": \"100\", \"start_time\": \"2024-05-19T18:11:54.322698Z\", \"end_time\": \"2024-05-19T18:12:19.190344Z\", \"created_time\": \"2024-05-19T18:07:54.012022Z\", \"created_time_dt\": \"2024-05-19T18:07:54.012022Z\", \"duration\": \"0:04:25\", \"iteration\": \"15\", \"goal\": \"accuracy_max\", \"run_name\": \"SparseNormalizer, RandomForest\", \"run_properties\": \"copy=True, norm='l2'\", \"primary_metric\": 0.81696511, \"best_metric\": 0.9151745}, {\"run_id\": \"AutoML_afbba018-e7b9-43d7-9ac2-b5478f6836fd_worker_0\", \"run_number\": 1716142075, \"metric\": null, \"status\": \"Completed\", \"run_type\": \"azureml.scriptrun\", \"training_percent\": null, \"start_time\": \"2024-05-19T18:08:17.663835Z\", \"end_time\": \"2024-05-19T18:15:01.076Z\", \"created_time\": \"2024-05-19T18:07:55.744951Z\", \"created_time_dt\": \"2024-05-19T18:07:55.744951Z\", \"duration\": \"0:07:05\", \"iteration\": null, \"goal\": null, \"run_name\": \"Completed\", \"run_properties\": null}, {\"run_id\": \"AutoML_afbba018-e7b9-43d7-9ac2-b5478f6836fd_20\", \"run_number\": 1716142600, \"metric\": null, \"status\": \"Completed\", \"run_type\": \"azureml.scriptrun\", \"training_percent\": \"100\", \"start_time\": \"2024-05-19T18:17:08.353019Z\", \"end_time\": \"2024-05-19T18:20:04.121163Z\", \"created_time\": \"2024-05-19T18:16:40.692489Z\", \"created_time_dt\": \"2024-05-19T18:16:40.692489Z\", \"duration\": \"0:03:23\", \"iteration\": \"20\", \"goal\": \"accuracy_max\", \"run_name\": \"TruncatedSVDWrapper, RandomForest\", \"run_properties\": \"n_components=0.7026315789473684, random_state=None\", \"primary_metric\": 0.83065258, \"best_metric\": 0.9151745}, {\"run_id\": \"AutoML_afbba018-e7b9-43d7-9ac2-b5478f6836fd_21\", \"run_number\": 1716142805, \"metric\": null, \"status\": \"Completed\", \"run_type\": \"azureml.scriptrun\", \"training_percent\": \"100\", \"start_time\": \"2024-05-19T18:20:28.436718Z\", \"end_time\": \"2024-05-19T18:20:58.660722Z\", \"created_time\": \"2024-05-19T18:20:05.721966Z\", \"created_time_dt\": \"2024-05-19T18:20:05.721966Z\", \"duration\": \"0:00:52\", \"iteration\": \"21\", \"goal\": \"accuracy_max\", \"run_name\": \"StandardScalerWrapper, XGBoostClassifier\", \"run_properties\": \"copy=True, with_mean=False, with_std=False\", \"primary_metric\": 0.91344461, \"best_metric\": 0.9151745}, {\"run_id\": \"AutoML_afbba018-e7b9-43d7-9ac2-b5478f6836fd_22\", \"run_number\": 1716142860, \"metric\": null, \"status\": \"Completed\", \"run_type\": \"azureml.scriptrun\", \"training_percent\": \"100\", \"start_time\": \"2024-05-19T18:21:19.003169Z\", \"end_time\": \"2024-05-19T18:21:52.983832Z\", \"created_time\": \"2024-05-19T18:21:00.104243Z\", \"created_time_dt\": \"2024-05-19T18:21:00.104243Z\", \"duration\": \"0:00:52\", \"iteration\": \"22\", \"goal\": \"accuracy_max\", \"run_name\": \"StandardScalerWrapper, LightGBM\", \"run_properties\": \"copy=True, with_mean=False, with_std=True\", \"primary_metric\": 0.91477996, \"best_metric\": 0.9151745}, {\"run_id\": \"AutoML_afbba018-e7b9-43d7-9ac2-b5478f6836fd_23\", \"run_number\": 1716142914, \"metric\": null, \"status\": \"Completed\", \"run_type\": \"azureml.scriptrun\", \"training_percent\": \"100\", \"start_time\": \"2024-05-19T18:22:13.6243Z\", \"end_time\": \"2024-05-19T18:22:41.431732Z\", \"created_time\": \"2024-05-19T18:21:54.189893Z\", \"created_time_dt\": \"2024-05-19T18:21:54.189893Z\", \"duration\": \"0:00:47\", \"iteration\": \"23\", \"goal\": \"accuracy_max\", \"run_name\": \"MaxAbsScaler, LightGBM\", \"run_properties\": \"copy=True\", \"primary_metric\": 0.88795138, \"best_metric\": 0.9151745}, {\"run_id\": \"AutoML_afbba018-e7b9-43d7-9ac2-b5478f6836fd_24\", \"run_number\": 1716142963, \"metric\": null, \"status\": \"Completed\", \"run_type\": \"azureml.scriptrun\", \"training_percent\": \"100\", \"start_time\": \"2024-05-19T18:23:03.940174Z\", \"end_time\": \"2024-05-19T18:23:56.025706Z\", \"created_time\": \"2024-05-19T18:22:43.069796Z\", \"created_time_dt\": \"2024-05-19T18:22:43.069796Z\", \"duration\": \"0:01:12\", \"iteration\": \"24\", \"goal\": \"accuracy_max\", \"run_name\": \"StandardScalerWrapper, XGBoostClassifier\", \"run_properties\": \"copy=True, with_mean=False, with_std=False\", \"primary_metric\": 0.91538691, \"best_metric\": 0.91538691}, {\"run_id\": \"AutoML_afbba018-e7b9-43d7-9ac2-b5478f6836fd_25\", \"run_number\": 1716143038, \"metric\": null, \"status\": \"Completed\", \"run_type\": \"azureml.scriptrun\", \"training_percent\": \"100\", \"start_time\": \"2024-05-19T18:24:19.709448Z\", \"end_time\": \"2024-05-19T18:24:48.008708Z\", \"created_time\": \"2024-05-19T18:23:58.117328Z\", \"created_time_dt\": \"2024-05-19T18:23:58.117328Z\", \"duration\": \"0:00:49\", \"iteration\": \"25\", \"goal\": \"accuracy_max\", \"run_name\": \"StandardScalerWrapper, XGBoostClassifier\", \"run_properties\": \"copy=True, with_mean=False, with_std=False\", \"primary_metric\": 0.88795138, \"best_metric\": 0.91538691}, {\"run_id\": \"AutoML_afbba018-e7b9-43d7-9ac2-b5478f6836fd_26\", \"run_number\": 1716143089, \"metric\": null, \"status\": \"Completed\", \"run_type\": \"azureml.scriptrun\", \"training_percent\": \"100\", \"start_time\": \"2024-05-19T18:25:12.211448Z\", \"end_time\": \"2024-05-19T18:25:41.949913Z\", \"created_time\": \"2024-05-19T18:24:49.493292Z\", \"created_time_dt\": \"2024-05-19T18:24:49.493292Z\", \"duration\": \"0:00:52\", \"iteration\": \"26\", \"goal\": \"accuracy_max\", \"run_name\": \"MaxAbsScaler, LightGBM\", \"run_properties\": \"copy=True\", \"primary_metric\": 0.91119876, \"best_metric\": 0.91538691}, {\"run_id\": \"AutoML_afbba018-e7b9-43d7-9ac2-b5478f6836fd_27\", \"run_number\": 1716143143, \"metric\": null, \"status\": \"Completed\", \"run_type\": \"azureml.scriptrun\", \"training_percent\": \"100\", \"start_time\": \"2024-05-19T18:26:03.666621Z\", \"end_time\": \"2024-05-19T18:26:57.16709Z\", \"created_time\": \"2024-05-19T18:25:43.307151Z\", \"created_time_dt\": \"2024-05-19T18:25:43.307151Z\", \"duration\": \"0:01:13\", \"iteration\": \"27\", \"goal\": \"accuracy_max\", \"run_name\": \"StandardScalerWrapper, XGBoostClassifier\", \"run_properties\": \"copy=True, with_mean=False, with_std=False\", \"primary_metric\": 0.91044001, \"best_metric\": 0.91538691}, {\"run_id\": \"AutoML_afbba018-e7b9-43d7-9ac2-b5478f6836fd_28\", \"run_number\": 1716143218, \"metric\": null, \"status\": \"Completed\", \"run_type\": \"azureml.scriptrun\", \"training_percent\": \"100\", \"start_time\": \"2024-05-19T18:27:19.266294Z\", \"end_time\": \"2024-05-19T18:27:47.932333Z\", \"created_time\": \"2024-05-19T18:26:58.771828Z\", \"created_time_dt\": \"2024-05-19T18:26:58.771828Z\", \"duration\": \"0:00:49\", \"iteration\": \"28\", \"goal\": \"accuracy_max\", \"run_name\": \"StandardScalerWrapper, LightGBM\", \"run_properties\": \"copy=True, with_mean=False, with_std=False\", \"primary_metric\": 0.90977242, \"best_metric\": 0.91538691}, {\"run_id\": \"AutoML_afbba018-e7b9-43d7-9ac2-b5478f6836fd_29\", \"run_number\": 1716143268, \"metric\": null, \"status\": \"Completed\", \"run_type\": \"azureml.scriptrun\", \"training_percent\": \"100\", \"start_time\": \"2024-05-19T18:28:08.937548Z\", \"end_time\": \"2024-05-19T18:29:11.41986Z\", \"created_time\": \"2024-05-19T18:27:48.552571Z\", \"created_time_dt\": \"2024-05-19T18:27:48.552571Z\", \"duration\": \"0:01:22\", \"iteration\": \"29\", \"goal\": \"accuracy_max\", \"run_name\": \"VotingEnsemble\", \"run_properties\": \"classification_labels=numpy.array([0, 1]\", \"primary_metric\": 0.91866458, \"best_metric\": 0.91866458}, {\"run_id\": \"AutoML_afbba018-e7b9-43d7-9ac2-b5478f6836fd_30\", \"run_number\": 1716143352, \"metric\": null, \"status\": \"Completed\", \"run_type\": \"azureml.scriptrun\", \"training_percent\": \"100\", \"start_time\": \"2024-05-19T18:29:31.639517Z\", \"end_time\": \"2024-05-19T18:30:40.101145Z\", \"created_time\": \"2024-05-19T18:29:12.091381Z\", \"created_time_dt\": \"2024-05-19T18:29:12.091381Z\", \"duration\": \"0:01:28\", \"iteration\": \"30\", \"goal\": \"accuracy_max\", \"run_name\": \"StackEnsemble\", \"run_properties\": \"base_learners=[('24', Pipeline(memory=None, steps=[('standardscalerwrapper', StandardScalerWrapper(copy=True, with_mean=False, with_std=False\", \"primary_metric\": 0.91599391, \"best_metric\": 0.91866458}], \"children_metrics\": {\"categories\": [0], \"series\": {\"average_precision_score_weighted\": [{\"categories\": [\"0\", \"3\", \"5\", \"8\", \"10\", \"13\", \"15\", \"20\", \"21\", \"22\", \"23\", \"24\", \"25\", \"26\", \"27\", \"28\", \"29\", \"30\"], \"mode\": \"markers\", \"name\": \"average_precision_score_weighted\", \"stepped\": false, \"type\": \"scatter\", \"data\": [0.9554048299266625, 0.9504534366211641, 0.9523421235516931, 0.9035890160983434, 0.9484500042313861, 0.9437037509307672, 0.9489041946659977, 0.9458618333432464, 0.9542931930424774, 0.9549916946238167, 0.9449088726725655, 0.9557284760714454, 0.8010179871277813, 0.9502150245964138, 0.949411942788585, 0.9499769937897896, 0.9563653979339938, 0.9550900715700029]}, {\"categories\": [\"0\", \"3\", \"5\", \"8\", \"10\", \"13\", \"15\", \"20\", \"21\", \"22\", \"23\", \"24\", \"25\", \"26\", \"27\", \"28\", \"29\", \"30\"], \"mode\": \"lines\", \"name\": \"average_precision_score_weighted_max\", \"stepped\": true, \"type\": \"scatter\", \"data\": [0.9554048299266625, 0.9554048299266625, 0.9554048299266625, 0.9554048299266625, 0.9554048299266625, 0.9554048299266625, 0.9554048299266625, 0.9554048299266625, 0.9554048299266625, 0.9554048299266625, 0.9554048299266625, 0.9557284760714454, 0.9557284760714454, 0.9557284760714454, 0.9557284760714454, 0.9557284760714454, 0.9563653979339938, 0.9563653979339938]}], \"AUC_weighted\": [{\"categories\": [\"0\", \"3\", \"5\", \"8\", \"10\", \"13\", \"15\", \"20\", \"21\", \"22\", \"23\", \"24\", \"25\", \"26\", \"27\", \"28\", \"29\", \"30\"], \"mode\": \"markers\", \"name\": \"AUC_weighted\", \"stepped\": false, \"type\": \"scatter\", \"data\": [0.9484114349970835, 0.9365360127114014, 0.9406902573159694, 0.8089959849609148, 0.9345848288184762, 0.9326432403684928, 0.9347883251712154, 0.9295417506299759, 0.9463322879385087, 0.9469229488361486, 0.9275503648482101, 0.9483039581686823, 0.5, 0.9374940584697878, 0.9349856172159221, 0.9374873896108271, 0.9484796577079934, 0.9463219078955968]}, {\"categories\": [\"0\", \"3\", \"5\", \"8\", \"10\", \"13\", \"15\", \"20\", \"21\", \"22\", \"23\", \"24\", \"25\", \"26\", \"27\", \"28\", \"29\", \"30\"], \"mode\": \"lines\", \"name\": \"AUC_weighted_max\", \"stepped\": true, \"type\": \"scatter\", \"data\": [0.9484114349970835, 0.9484114349970835, 0.9484114349970835, 0.9484114349970835, 0.9484114349970835, 0.9484114349970835, 0.9484114349970835, 0.9484114349970835, 0.9484114349970835, 0.9484114349970835, 0.9484114349970835, 0.9484114349970835, 0.9484114349970835, 0.9484114349970835, 0.9484114349970835, 0.9484114349970835, 0.9484796577079934, 0.9484796577079934]}], \"AUC_micro\": [{\"categories\": [\"0\", \"3\", \"5\", \"8\", \"10\", \"13\", \"15\", \"20\", \"21\", \"22\", \"23\", \"24\", \"25\", \"26\", \"27\", \"28\", \"29\", \"30\"], \"mode\": \"markers\", \"name\": \"AUC_micro\", \"stepped\": false, \"type\": \"scatter\", \"data\": [0.9808531702140018, 0.978274724898216, 0.975640017166089, 0.949418757806682, 0.9764081928364928, 0.916651838124222, 0.9200790852656979, 0.923289687660684, 0.9802443939276871, 0.9804618706588046, 0.973032944882311, 0.9808887801493128, 0.8879513842675975, 0.9779352391158037, 0.977323091686703, 0.97767948385551, 0.9809405970328698, 0.9804424805889086]}, {\"categories\": [\"0\", \"3\", \"5\", \"8\", \"10\", \"13\", \"15\", \"20\", \"21\", \"22\", \"23\", \"24\", \"25\", \"26\", \"27\", \"28\", \"29\", \"30\"], \"mode\": \"lines\", \"name\": \"AUC_micro_max\", \"stepped\": true, \"type\": \"scatter\", \"data\": [0.9808531702140018, 0.9808531702140018, 0.9808531702140018, 0.9808531702140018, 0.9808531702140018, 0.9808531702140018, 0.9808531702140018, 0.9808531702140018, 0.9808531702140018, 0.9808531702140018, 0.9808531702140018, 0.9808887801493128, 0.9808887801493128, 0.9808887801493128, 0.9808887801493128, 0.9808887801493128, 0.9809405970328698, 0.9809405970328698]}], \"weighted_accuracy\": [{\"categories\": [\"0\", \"3\", \"5\", \"8\", \"10\", \"13\", \"15\", \"20\", \"21\", \"22\", \"23\", \"24\", \"25\", \"26\", \"27\", \"28\", \"29\", \"30\"], \"mode\": \"markers\", \"name\": \"weighted_accuracy\", \"stepped\": false, \"type\": \"scatter\", \"data\": [0.9557370956884528, 0.9558836855420556, 0.9843470039312524, 0.9836655732523022, 0.9769744731677762, 0.8512151301740105, 0.8032155976230112, 0.8197410894859055, 0.9622283309914598, 0.9598294286759531, 0.9843213020943994, 0.9560596078841966, 0.9843213020943994, 0.954681105849128, 0.9655112510162852, 0.9608618203583518, 0.9523155247586965, 0.9568505036280017]}, {\"categories\": [\"0\", \"3\", \"5\", \"8\", \"10\", \"13\", \"15\", \"20\", \"21\", \"22\", \"23\", \"24\", \"25\", \"26\", \"27\", \"28\", \"29\", \"30\"], \"mode\": \"lines\", \"name\": \"weighted_accuracy_max\", \"stepped\": true, \"type\": \"scatter\", \"data\": [0.9557370956884528, 0.9558836855420556, 0.9843470039312524, 0.9843470039312524, 0.9843470039312524, 0.9843470039312524, 0.9843470039312524, 0.9843470039312524, 0.9843470039312524, 0.9843470039312524, 0.9843470039312524, 0.9843470039312524, 0.9843470039312524, 0.9843470039312524, 0.9843470039312524, 0.9843470039312524, 0.9843470039312524, 0.9843470039312524]}], \"balanced_accuracy\": [{\"categories\": [\"0\", \"3\", \"5\", \"8\", \"10\", \"13\", \"15\", \"20\", \"21\", \"22\", \"23\", \"24\", \"25\", \"26\", \"27\", \"28\", \"29\", \"30\"], \"mode\": \"markers\", \"name\": \"balanced_accuracy\", \"stepped\": false, \"type\": \"scatter\", \"data\": [0.751980578448754, 0.7484291457985034, 0.5018818622956122, 0.5074730436045846, 0.6161949461348478, 0.8647149336689752, 0.8723151990322305, 0.8745593372922175, 0.7170070125398199, 0.733444411352662, 0.5, 0.7517807058785299, 0.5, 0.7361779886192782, 0.688711355448263, 0.7042194976828445, 0.7832852314221727, 0.7516404333983292]}, {\"categories\": [\"0\", \"3\", \"5\", \"8\", \"10\", \"13\", \"15\", \"20\", \"21\", \"22\", \"23\", \"24\", \"25\", \"26\", \"27\", \"28\", \"29\", \"30\"], \"mode\": \"lines\", \"name\": \"balanced_accuracy_max\", \"stepped\": true, \"type\": \"scatter\", \"data\": [0.751980578448754, 0.751980578448754, 0.751980578448754, 0.751980578448754, 0.751980578448754, 0.8647149336689752, 0.8723151990322305, 0.8745593372922175, 0.8745593372922175, 0.8745593372922175, 0.8745593372922175, 0.8745593372922175, 0.8745593372922175, 0.8745593372922175, 0.8745593372922175, 0.8745593372922175, 0.8745593372922175, 0.8745593372922175]}], \"precision_score_macro\": [{\"categories\": [\"0\", \"3\", \"5\", \"8\", \"10\", \"13\", \"15\", \"20\", \"21\", \"22\", \"23\", \"24\", \"25\", \"26\", \"27\", \"28\", \"29\", \"30\"], \"mode\": \"markers\", \"name\": \"precision_score_macro\", \"stepped\": false, \"type\": \"scatter\", \"data\": [0.7945813556371698, 0.7934646787334332, 0.91638497490837, 0.7751357290513842, 0.8215997321677594, 0.7045830184117089, 0.6827657080048737, 0.6908957651783073, 0.7990536644697342, 0.7991965849851187, 0.4439756921337987, 0.7954565589941985, 0.4439756921337987, 0.7838510207599235, 0.7974454000540502, 0.7886644513090052, 0.7983577606264167, 0.7975056696407933]}, {\"categories\": [\"0\", \"3\", \"5\", \"8\", \"10\", \"13\", \"15\", \"20\", \"21\", \"22\", \"23\", \"24\", \"25\", \"26\", \"27\", \"28\", \"29\", \"30\"], \"mode\": \"lines\", \"name\": \"precision_score_macro_max\", \"stepped\": true, \"type\": \"scatter\", \"data\": [0.7945813556371698, 0.7945813556371698, 0.91638497490837, 0.91638497490837, 0.91638497490837, 0.91638497490837, 0.91638497490837, 0.91638497490837, 0.91638497490837, 0.91638497490837, 0.91638497490837, 0.91638497490837, 0.91638497490837, 0.91638497490837, 0.91638497490837, 0.91638497490837, 0.91638497490837, 0.91638497490837]}], \"f1_score_micro\": [{\"categories\": [\"0\", \"3\", \"5\", \"8\", \"10\", \"13\", \"15\", \"20\", \"21\", \"22\", \"23\", \"24\", \"25\", \"26\", \"27\", \"28\", \"29\", \"30\"], \"mode\": \"markers\", \"name\": \"f1_score_micro\", \"stepped\": false, \"type\": \"scatter\", \"data\": [0.9151744965408922, 0.9145674757411072, 0.8883459196037965, 0.8889225766533139, 0.9051896222144901, 0.8539000450872264, 0.8169651139547209, 0.8306525780854859, 0.9134446082854616, 0.914779958441589, 0.8879513842675975, 0.9153869101637732, 0.8879513842675975, 0.9111987628500087, 0.9104400061920056, 0.9097724209148231, 0.9186645843030448, 0.9159939088587259]}, {\"categories\": [\"0\", \"3\", \"5\", \"8\", \"10\", \"13\", \"15\", \"20\", \"21\", \"22\", \"23\", \"24\", \"25\", \"26\", \"27\", \"28\", \"29\", \"30\"], \"mode\": \"lines\", \"name\": \"f1_score_micro_max\", \"stepped\": true, \"type\": \"scatter\", \"data\": [0.9151744965408922, 0.9151744965408922, 0.9151744965408922, 0.9151744965408922, 0.9151744965408922, 0.9151744965408922, 0.9151744965408922, 0.9151744965408922, 0.9151744965408922, 0.9151744965408922, 0.9151744965408922, 0.9153869101637732, 0.9153869101637732, 0.9153869101637732, 0.9153869101637732, 0.9153869101637732, 0.9186645843030448, 0.9186645843030448]}], \"accuracy\": [{\"categories\": [\"0\", \"3\", \"5\", \"8\", \"10\", \"13\", \"15\", \"20\", \"21\", \"22\", \"23\", \"24\", \"25\", \"26\", \"27\", \"28\", \"29\", \"30\"], \"mode\": \"markers\", \"name\": \"accuracy\", \"stepped\": false, \"type\": \"scatter\", \"data\": [0.9151744965408922, 0.9145674757411072, 0.8883459196037965, 0.8889225766533139, 0.9051896222144901, 0.8539000450872264, 0.8169651139547209, 0.8306525780854859, 0.9134446082854616, 0.914779958441589, 0.8879513842675975, 0.9153869101637732, 0.8879513842675975, 0.9111987628500087, 0.9104400061920056, 0.9097724209148231, 0.9186645843030448, 0.9159939088587259]}, {\"categories\": [\"0\", \"3\", \"5\", \"8\", \"10\", \"13\", \"15\", \"20\", \"21\", \"22\", \"23\", \"24\", \"25\", \"26\", \"27\", \"28\", \"29\", \"30\"], \"mode\": \"lines\", \"name\": \"accuracy_max\", \"stepped\": true, \"type\": \"scatter\", \"data\": [0.9151744965408922, 0.9151744965408922, 0.9151744965408922, 0.9151744965408922, 0.9151744965408922, 0.9151744965408922, 0.9151744965408922, 0.9151744965408922, 0.9151744965408922, 0.9151744965408922, 0.9151744965408922, 0.9153869101637732, 0.9153869101637732, 0.9153869101637732, 0.9153869101637732, 0.9153869101637732, 0.9186645843030448, 0.9186645843030448]}], \"AUC_macro\": [{\"categories\": [\"0\", \"3\", \"5\", \"8\", \"10\", \"13\", \"15\", \"20\", \"21\", \"22\", \"23\", \"24\", \"25\", \"26\", \"27\", \"28\", \"29\", \"30\"], \"mode\": \"markers\", \"name\": \"AUC_macro\", \"stepped\": false, \"type\": \"scatter\", \"data\": [0.9484114349970835, 0.9365360179821431, 0.9406902573159694, 0.8089959849609146, 0.9345848288184763, 0.9326432403684931, 0.9347883251712154, 0.9295417506299758, 0.9463322877153955, 0.9469229488361487, 0.92755036484821, 0.9483039636625371, 0.5, 0.9374940584697878, 0.9349856172159221, 0.9374873896108271, 0.9484796577079934, 0.946321907895597]}, {\"categories\": [\"0\", \"3\", \"5\", \"8\", \"10\", \"13\", \"15\", \"20\", \"21\", \"22\", \"23\", \"24\", \"25\", \"26\", \"27\", \"28\", \"29\", \"30\"], \"mode\": \"lines\", \"name\": \"AUC_macro_max\", \"stepped\": true, \"type\": \"scatter\", \"data\": [0.9484114349970835, 0.9484114349970835, 0.9484114349970835, 0.9484114349970835, 0.9484114349970835, 0.9484114349970835, 0.9484114349970835, 0.9484114349970835, 0.9484114349970835, 0.9484114349970835, 0.9484114349970835, 0.9484114349970835, 0.9484114349970835, 0.9484114349970835, 0.9484114349970835, 0.9484114349970835, 0.9484796577079934, 0.9484796577079934]}], \"matthews_correlation\": [{\"categories\": [\"0\", \"3\", \"5\", \"8\", \"10\", \"13\", \"15\", \"20\", \"21\", \"22\", \"23\", \"24\", \"25\", \"26\", \"27\", \"28\", \"29\", \"30\"], \"mode\": \"markers\", \"name\": \"matthews_correlation\", \"stepped\": false, \"type\": \"scatter\", \"data\": [0.5446820120607853, 0.5396442617655554, 0.05578257530011669, 0.08859297147305506, 0.38655715323581924, 0.546204584127485, 0.5217061683298221, 0.5347857439866183, 0.5092476178177384, 0.5282956867495151, 0.0, 0.545247323583573, 0.0, 0.5177359682847871, 0.47374959468109545, 0.48513455844500397, 0.581345262273645, 0.5470333584642596]}, {\"categories\": [\"0\", \"3\", \"5\", \"8\", \"10\", \"13\", \"15\", \"20\", \"21\", \"22\", \"23\", \"24\", \"25\", \"26\", \"27\", \"28\", \"29\", \"30\"], \"mode\": \"lines\", \"name\": \"matthews_correlation_max\", \"stepped\": true, \"type\": \"scatter\", \"data\": [0.5446820120607853, 0.5446820120607853, 0.5446820120607853, 0.5446820120607853, 0.5446820120607853, 0.546204584127485, 0.546204584127485, 0.546204584127485, 0.546204584127485, 0.546204584127485, 0.546204584127485, 0.546204584127485, 0.546204584127485, 0.546204584127485, 0.546204584127485, 0.546204584127485, 0.581345262273645, 0.581345262273645]}], \"f1_score_weighted\": [{\"categories\": [\"0\", \"3\", \"5\", \"8\", \"10\", \"13\", \"15\", \"20\", \"21\", \"22\", \"23\", \"24\", \"25\", \"26\", \"27\", \"28\", \"29\", \"30\"], \"mode\": \"markers\", \"name\": \"f1_score_weighted\", \"stepped\": false, \"type\": \"scatter\", \"data\": [0.9119113009643813, 0.9110190357905904, 0.8362720902551278, 0.8391221540539661, 0.8834192568681422, 0.8739700038117318, 0.8467874812348474, 0.8570978881048928, 0.9065904643517858, 0.9096241764983525, 0.8352528881918336, 0.9120481325553248, 0.8352528881918336, 0.907151976065824, 0.9005269133251739, 0.9021621222410322, 0.917621522649675, 0.9125059603643645]}, {\"categories\": [\"0\", \"3\", \"5\", \"8\", \"10\", \"13\", \"15\", \"20\", \"21\", \"22\", \"23\", \"24\", \"25\", \"26\", \"27\", \"28\", \"29\", \"30\"], \"mode\": \"lines\", \"name\": \"f1_score_weighted_max\", \"stepped\": true, \"type\": \"scatter\", \"data\": [0.9119113009643813, 0.9119113009643813, 0.9119113009643813, 0.9119113009643813, 0.9119113009643813, 0.9119113009643813, 0.9119113009643813, 0.9119113009643813, 0.9119113009643813, 0.9119113009643813, 0.9119113009643813, 0.9120481325553248, 0.9120481325553248, 0.9120481325553248, 0.9120481325553248, 0.9120481325553248, 0.917621522649675, 0.917621522649675]}], \"recall_score_macro\": [{\"categories\": [\"0\", \"3\", \"5\", \"8\", \"10\", \"13\", \"15\", \"20\", \"21\", \"22\", \"23\", \"24\", \"25\", \"26\", \"27\", \"28\", \"29\", \"30\"], \"mode\": \"markers\", \"name\": \"recall_score_macro\", \"stepped\": false, \"type\": \"scatter\", \"data\": [0.751980578448754, 0.7484291457985034, 0.5018818622956122, 0.5074730436045846, 0.6161949461348478, 0.8647149336689752, 0.8723151990322305, 0.8745593372922175, 0.7170070125398199, 0.733444411352662, 0.5, 0.7517807058785299, 0.5, 0.7361779886192782, 0.688711355448263, 0.7042194976828445, 0.7832852314221727, 0.7516404333983292]}, {\"categories\": [\"0\", \"3\", \"5\", \"8\", \"10\", \"13\", \"15\", \"20\", \"21\", \"22\", \"23\", \"24\", \"25\", \"26\", \"27\", \"28\", \"29\", \"30\"], \"mode\": \"lines\", \"name\": \"recall_score_macro_max\", \"stepped\": true, \"type\": \"scatter\", \"data\": [0.751980578448754, 0.751980578448754, 0.751980578448754, 0.751980578448754, 0.751980578448754, 0.8647149336689752, 0.8723151990322305, 0.8745593372922175, 0.8745593372922175, 0.8745593372922175, 0.8745593372922175, 0.8745593372922175, 0.8745593372922175, 0.8745593372922175, 0.8745593372922175, 0.8745593372922175, 0.8745593372922175, 0.8745593372922175]}], \"recall_score_weighted\": [{\"categories\": [\"0\", \"3\", \"5\", \"8\", \"10\", \"13\", \"15\", \"20\", \"21\", \"22\", \"23\", \"24\", \"25\", \"26\", \"27\", \"28\", \"29\", \"30\"], \"mode\": \"markers\", \"name\": \"recall_score_weighted\", \"stepped\": false, \"type\": \"scatter\", \"data\": [0.9151744965408922, 0.9145674757411072, 0.8883459196037965, 0.8889225766533139, 0.9051896222144901, 0.8539000450872264, 0.8169651139547209, 0.8306525780854859, 0.9134446082854616, 0.914779958441589, 0.8879513842675975, 0.9153869101637732, 0.8879513842675975, 0.9111987628500087, 0.9104400061920056, 0.9097724209148231, 0.9186645843030448, 0.9159939088587259]}, {\"categories\": [\"0\", \"3\", \"5\", \"8\", \"10\", \"13\", \"15\", \"20\", \"21\", \"22\", \"23\", \"24\", \"25\", \"26\", \"27\", \"28\", \"29\", \"30\"], \"mode\": \"lines\", \"name\": \"recall_score_weighted_max\", \"stepped\": true, \"type\": \"scatter\", \"data\": [0.9151744965408922, 0.9151744965408922, 0.9151744965408922, 0.9151744965408922, 0.9151744965408922, 0.9151744965408922, 0.9151744965408922, 0.9151744965408922, 0.9151744965408922, 0.9151744965408922, 0.9151744965408922, 0.9153869101637732, 0.9153869101637732, 0.9153869101637732, 0.9153869101637732, 0.9153869101637732, 0.9186645843030448, 0.9186645843030448]}], \"precision_score_micro\": [{\"categories\": [\"0\", \"3\", \"5\", \"8\", \"10\", \"13\", \"15\", \"20\", \"21\", \"22\", \"23\", \"24\", \"25\", \"26\", \"27\", \"28\", \"29\", \"30\"], \"mode\": \"markers\", \"name\": \"precision_score_micro\", \"stepped\": false, \"type\": \"scatter\", \"data\": [0.9151744965408922, 0.9145674757411072, 0.8883459196037965, 0.8889225766533139, 0.9051896222144901, 0.8539000450872264, 0.8169651139547209, 0.8306525780854859, 0.9134446082854616, 0.914779958441589, 0.8879513842675975, 0.9153869101637732, 0.8879513842675975, 0.9111987628500087, 0.9104400061920056, 0.9097724209148231, 0.9186645843030448, 0.9159939088587259]}, {\"categories\": [\"0\", \"3\", \"5\", \"8\", \"10\", \"13\", \"15\", \"20\", \"21\", \"22\", \"23\", \"24\", \"25\", \"26\", \"27\", \"28\", \"29\", \"30\"], \"mode\": \"lines\", \"name\": \"precision_score_micro_max\", \"stepped\": true, \"type\": \"scatter\", \"data\": [0.9151744965408922, 0.9151744965408922, 0.9151744965408922, 0.9151744965408922, 0.9151744965408922, 0.9151744965408922, 0.9151744965408922, 0.9151744965408922, 0.9151744965408922, 0.9151744965408922, 0.9151744965408922, 0.9153869101637732, 0.9153869101637732, 0.9153869101637732, 0.9153869101637732, 0.9153869101637732, 0.9186645843030448, 0.9186645843030448]}], \"average_precision_score_macro\": [{\"categories\": [\"0\", \"3\", \"5\", \"8\", \"10\", \"13\", \"15\", \"20\", \"21\", \"22\", \"23\", \"24\", \"25\", \"26\", \"27\", \"28\", \"29\", \"30\"], \"mode\": \"markers\", \"name\": \"average_precision_score_macro\", \"stepped\": false, \"type\": \"scatter\", \"data\": [0.8239314075924975, 0.8129962920255364, 0.815029811917741, 0.6971517545087452, 0.800539855315585, 0.7806680339558069, 0.8021736364079534, 0.7909416762373533, 0.8205202783915615, 0.8228735113974013, 0.7881350124621086, 0.8254507744412601, 0.5, 0.8065670896739885, 0.8051609801077145, 0.805141401214836, 0.8284225175223959, 0.8238181283386891]}, {\"categories\": [\"0\", \"3\", \"5\", \"8\", \"10\", \"13\", \"15\", \"20\", \"21\", \"22\", \"23\", \"24\", \"25\", \"26\", \"27\", \"28\", \"29\", \"30\"], \"mode\": \"lines\", \"name\": \"average_precision_score_macro_max\", \"stepped\": true, \"type\": \"scatter\", \"data\": [0.8239314075924975, 0.8239314075924975, 0.8239314075924975, 0.8239314075924975, 0.8239314075924975, 0.8239314075924975, 0.8239314075924975, 0.8239314075924975, 0.8239314075924975, 0.8239314075924975, 0.8239314075924975, 0.8254507744412601, 0.8254507744412601, 0.8254507744412601, 0.8254507744412601, 0.8254507744412601, 0.8284225175223959, 0.8284225175223959]}], \"average_precision_score_micro\": [{\"categories\": [\"0\", \"3\", \"5\", \"8\", \"10\", \"13\", \"15\", \"20\", \"21\", \"22\", \"23\", \"24\", \"25\", \"26\", \"27\", \"28\", \"29\", \"30\"], \"mode\": \"markers\", \"name\": \"average_precision_score_micro\", \"stepped\": false, \"type\": \"scatter\", \"data\": [0.9816833278555314, 0.9777362849529, 0.9766324363927638, 0.9438930809053739, 0.9771728897560736, 0.9015150748877617, 0.9255982365093055, 0.9271274741743287, 0.9809711538800117, 0.9812965134066497, 0.9740509611105571, 0.9817151006541117, 0.8444846856976893, 0.9788019395056593, 0.9779317854604015, 0.9786171045760338, 0.9817230664069917, 0.9812428005188361]}, {\"categories\": [\"0\", \"3\", \"5\", \"8\", \"10\", \"13\", \"15\", \"20\", \"21\", \"22\", \"23\", \"24\", \"25\", \"26\", \"27\", \"28\", \"29\", \"30\"], \"mode\": \"lines\", \"name\": \"average_precision_score_micro_max\", \"stepped\": true, \"type\": \"scatter\", \"data\": [0.9816833278555314, 0.9816833278555314, 0.9816833278555314, 0.9816833278555314, 0.9816833278555314, 0.9816833278555314, 0.9816833278555314, 0.9816833278555314, 0.9816833278555314, 0.9816833278555314, 0.9816833278555314, 0.9817151006541117, 0.9817151006541117, 0.9817151006541117, 0.9817151006541117, 0.9817151006541117, 0.9817230664069917, 0.9817230664069917]}], \"recall_score_micro\": [{\"categories\": [\"0\", \"3\", \"5\", \"8\", \"10\", \"13\", \"15\", \"20\", \"21\", \"22\", \"23\", \"24\", \"25\", \"26\", \"27\", \"28\", \"29\", \"30\"], \"mode\": \"markers\", \"name\": \"recall_score_micro\", \"stepped\": false, \"type\": \"scatter\", \"data\": [0.9151744965408922, 0.9145674757411072, 0.8883459196037965, 0.8889225766533139, 0.9051896222144901, 0.8539000450872264, 0.8169651139547209, 0.8306525780854859, 0.9134446082854616, 0.914779958441589, 0.8879513842675975, 0.9153869101637732, 0.8879513842675975, 0.9111987628500087, 0.9104400061920056, 0.9097724209148231, 0.9186645843030448, 0.9159939088587259]}, {\"categories\": [\"0\", \"3\", \"5\", \"8\", \"10\", \"13\", \"15\", \"20\", \"21\", \"22\", \"23\", \"24\", \"25\", \"26\", \"27\", \"28\", \"29\", \"30\"], \"mode\": \"lines\", \"name\": \"recall_score_micro_max\", \"stepped\": true, \"type\": \"scatter\", \"data\": [0.9151744965408922, 0.9151744965408922, 0.9151744965408922, 0.9151744965408922, 0.9151744965408922, 0.9151744965408922, 0.9151744965408922, 0.9151744965408922, 0.9151744965408922, 0.9151744965408922, 0.9151744965408922, 0.9153869101637732, 0.9153869101637732, 0.9153869101637732, 0.9153869101637732, 0.9153869101637732, 0.9186645843030448, 0.9186645843030448]}], \"log_loss\": [{\"categories\": [\"0\", \"3\", \"5\", \"8\", \"10\", \"13\", \"15\", \"20\", \"21\", \"22\", \"23\", \"24\", \"25\", \"26\", \"27\", \"28\", \"29\", \"30\"], \"mode\": \"markers\", \"name\": \"log_loss\", \"stepped\": false, \"type\": \"scatter\", \"data\": [0.1737947647071472, 0.6231796550630414, 0.24593258147446187, 0.2873270676798721, 0.20249837533274875, 0.9217853928498195, 0.358714422844566, 0.36637896455147856, 0.18165257346187094, 0.17647425501479308, 0.26038345415291114, 0.17431021299136382, 0.41031635945628486, 0.18935301619458447, 0.41270519393186517, 0.1926622430450846, 0.2531549290617521, 0.18666511805413236]}, {\"categories\": [\"0\", \"3\", \"5\", \"8\", \"10\", \"13\", \"15\", \"20\", \"21\", \"22\", \"23\", \"24\", \"25\", \"26\", \"27\", \"28\", \"29\", \"30\"], \"mode\": \"lines\", \"name\": \"log_loss_min\", \"stepped\": true, \"type\": \"scatter\", \"data\": [0.1737947647071472, 0.1737947647071472, 0.1737947647071472, 0.1737947647071472, 0.1737947647071472, 0.1737947647071472, 0.1737947647071472, 0.1737947647071472, 0.1737947647071472, 0.1737947647071472, 0.1737947647071472, 0.1737947647071472, 0.1737947647071472, 0.1737947647071472, 0.1737947647071472, 0.1737947647071472, 0.1737947647071472, 0.1737947647071472]}], \"f1_score_macro\": [{\"categories\": [\"0\", \"3\", \"5\", \"8\", \"10\", \"13\", \"15\", \"20\", \"21\", \"22\", \"23\", \"24\", \"25\", \"26\", \"27\", \"28\", \"29\", \"30\"], \"mode\": \"markers\", \"name\": \"f1_score_macro\", \"stepped\": false, \"type\": \"scatter\", \"data\": [0.7706487553528701, 0.7678078709485582, 0.47420454588426786, 0.4859868115655412, 0.6571402165165283, 0.7429618037051556, 0.7110030039094193, 0.7237879132878823, 0.7487305488652427, 0.7603410564280889, 0.47032494017168064, 0.7708367023102451, 0.47032494017168064, 0.7567803735896165, 0.726436755760762, 0.7358915867562908, 0.790397842266764, 0.7716177758377407]}, {\"categories\": [\"0\", \"3\", \"5\", \"8\", \"10\", \"13\", \"15\", \"20\", \"21\", \"22\", \"23\", \"24\", \"25\", \"26\", \"27\", \"28\", \"29\", \"30\"], \"mode\": \"lines\", \"name\": \"f1_score_macro_max\", \"stepped\": true, \"type\": \"scatter\", \"data\": [0.7706487553528701, 0.7706487553528701, 0.7706487553528701, 0.7706487553528701, 0.7706487553528701, 0.7706487553528701, 0.7706487553528701, 0.7706487553528701, 0.7706487553528701, 0.7706487553528701, 0.7706487553528701, 0.7708367023102451, 0.7708367023102451, 0.7708367023102451, 0.7708367023102451, 0.7708367023102451, 0.790397842266764, 0.790397842266764]}], \"precision_score_weighted\": [{\"categories\": [\"0\", \"3\", \"5\", \"8\", \"10\", \"13\", \"15\", \"20\", \"21\", \"22\", \"23\", \"24\", \"25\", \"26\", \"27\", \"28\", \"29\", \"30\"], \"mode\": \"markers\", \"name\": \"precision_score_weighted\", \"stepped\": false, \"type\": \"scatter\", \"data\": [0.9100028944763764, 0.9090863004809685, 0.8946296325956961, 0.8640009331149843, 0.8917304220527985, 0.9201349222295238, 0.92209045133102, 0.9225940195164058, 0.9044250024080233, 0.9075065704511447, 0.788460377831488, 0.9101409903605554, 0.788460377831488, 0.9047671606508159, 0.8989502811955726, 0.899901984678945, 0.9167996658660283, 0.9105377209875076]}, {\"categories\": [\"0\", \"3\", \"5\", \"8\", \"10\", \"13\", \"15\", \"20\", \"21\", \"22\", \"23\", \"24\", \"25\", \"26\", \"27\", \"28\", \"29\", \"30\"], \"mode\": \"lines\", \"name\": \"precision_score_weighted_max\", \"stepped\": true, \"type\": \"scatter\", \"data\": [0.9100028944763764, 0.9100028944763764, 0.9100028944763764, 0.9100028944763764, 0.9100028944763764, 0.9201349222295238, 0.92209045133102, 0.9225940195164058, 0.9225940195164058, 0.9225940195164058, 0.9225940195164058, 0.9225940195164058, 0.9225940195164058, 0.9225940195164058, 0.9225940195164058, 0.9225940195164058, 0.9225940195164058, 0.9225940195164058]}], \"norm_macro_recall\": [{\"categories\": [\"0\", \"3\", \"5\", \"8\", \"10\", \"13\", \"15\", \"20\", \"21\", \"22\", \"23\", \"24\", \"25\", \"26\", \"27\", \"28\", \"29\", \"30\"], \"mode\": \"markers\", \"name\": \"norm_macro_recall\", \"stepped\": false, \"type\": \"scatter\", \"data\": [0.5039611568975079, 0.49685829159700695, 0.0037637245912244635, 0.014946087209168976, 0.23238989226969556, 0.7294298673379503, 0.7446303980644607, 0.749118674584435, 0.43401402507964, 0.4668888227053239, 0.0, 0.5035614117570596, 0.0, 0.47235597723855643, 0.37742271089652596, 0.408438995365689, 0.5665704628443453, 0.5032808667966585]}, {\"categories\": [\"0\", \"3\", \"5\", \"8\", \"10\", \"13\", \"15\", \"20\", \"21\", \"22\", \"23\", \"24\", \"25\", \"26\", \"27\", \"28\", \"29\", \"30\"], \"mode\": \"lines\", \"name\": \"norm_macro_recall_max\", \"stepped\": true, \"type\": \"scatter\", \"data\": [0.5039611568975079, 0.5039611568975079, 0.5039611568975079, 0.5039611568975079, 0.5039611568975079, 0.7294298673379503, 0.7446303980644607, 0.749118674584435, 0.749118674584435, 0.749118674584435, 0.749118674584435, 0.749118674584435, 0.749118674584435, 0.749118674584435, 0.749118674584435, 0.749118674584435, 0.749118674584435, 0.749118674584435]}]}, \"metricName\": null, \"primaryMetricName\": \"accuracy\", \"showLegend\": false}, \"run_metrics\": [{\"name\": \"experiment_status\", \"run_id\": \"AutoML_afbba018-e7b9-43d7-9ac2-b5478f6836fd\", \"categories\": [0, 1, 2, 3, 4, 5, 6, 7, 8, 9, 10, 11, 12, 13, 14], \"series\": [{\"data\": [\"DatasetEvaluation\", \"FeaturesGeneration\", \"DatasetFeaturization\", \"DatasetFeaturizationCompleted\", \"DatasetBalancing\", \"DatasetCrossValidationSplit\", \"ModelSelection\", \"BestRunExplainModel\", \"ModelExplanationDataSetSetup\", \"PickSurrogateModel\", \"EngineeredFeatureExplanations\", \"EngineeredFeatureExplanations\", \"RawFeaturesExplanations\", \"RawFeaturesExplanations\", \"BestRunExplainModel\"]}]}, {\"name\": \"experiment_status_description\", \"run_id\": \"AutoML_afbba018-e7b9-43d7-9ac2-b5478f6836fd\", \"categories\": [0, 1, 2, 3, 4, 5, 6, 7, 8, 9, 10, 11, 12, 13, 14], \"series\": [{\"data\": [\"Gathering dataset statistics.\", \"Generating features for the dataset.\", \"Beginning to fit featurizers and featurize the dataset.\", \"Completed fit featurizers and featurizing the dataset.\", \"Performing class balancing sweeping\", \"Generating individually featurized CV splits.\", \"Beginning model selection.\", \"Best run model explanations started\", \"Model explanations data setup completed\", \"Choosing LightGBM as the surrogate model for explanations\", \"Computation of engineered features started\", \"Computation of engineered features completed\", \"Computation of raw features started\", \"Computation of raw features completed\", \"Best run model explanations completed\"]}]}, {\"name\": \"average_precision_score_micro\", \"run_id\": \"AutoML_afbba018-e7b9-43d7-9ac2-b5478f6836fd\", \"categories\": [0], \"series\": [{\"data\": [0.9817230664069917]}]}, {\"name\": \"AUC_weighted\", \"run_id\": \"AutoML_afbba018-e7b9-43d7-9ac2-b5478f6836fd\", \"categories\": [0], \"series\": [{\"data\": [0.9484796577079934]}]}, {\"name\": \"precision_score_weighted\", \"run_id\": \"AutoML_afbba018-e7b9-43d7-9ac2-b5478f6836fd\", \"categories\": [0], \"series\": [{\"data\": [0.9167996658660283]}]}, {\"name\": \"weighted_accuracy\", \"run_id\": \"AutoML_afbba018-e7b9-43d7-9ac2-b5478f6836fd\", \"categories\": [0], \"series\": [{\"data\": [0.9523155247586965]}]}, {\"name\": \"f1_score_weighted\", \"run_id\": \"AutoML_afbba018-e7b9-43d7-9ac2-b5478f6836fd\", \"categories\": [0], \"series\": [{\"data\": [0.917621522649675]}]}, {\"name\": \"average_precision_score_macro\", \"run_id\": \"AutoML_afbba018-e7b9-43d7-9ac2-b5478f6836fd\", \"categories\": [0], \"series\": [{\"data\": [0.8284225175223959]}]}, {\"name\": \"AUC_micro\", \"run_id\": \"AutoML_afbba018-e7b9-43d7-9ac2-b5478f6836fd\", \"categories\": [0], \"series\": [{\"data\": [0.9809405970328698]}]}, {\"name\": \"f1_score_macro\", \"run_id\": \"AutoML_afbba018-e7b9-43d7-9ac2-b5478f6836fd\", \"categories\": [0], \"series\": [{\"data\": [0.790397842266764]}]}, {\"name\": \"matthews_correlation\", \"run_id\": \"AutoML_afbba018-e7b9-43d7-9ac2-b5478f6836fd\", \"categories\": [0], \"series\": [{\"data\": [0.581345262273645]}]}, {\"name\": \"precision_score_macro\", \"run_id\": \"AutoML_afbba018-e7b9-43d7-9ac2-b5478f6836fd\", \"categories\": [0], \"series\": [{\"data\": [0.7983577606264167]}]}, {\"name\": \"recall_score_macro\", \"run_id\": \"AutoML_afbba018-e7b9-43d7-9ac2-b5478f6836fd\", \"categories\": [0], \"series\": [{\"data\": [0.7832852314221727]}]}, {\"name\": \"recall_score_weighted\", \"run_id\": \"AutoML_afbba018-e7b9-43d7-9ac2-b5478f6836fd\", \"categories\": [0], \"series\": [{\"data\": [0.9186645843030448]}]}, {\"name\": \"average_precision_score_weighted\", \"run_id\": \"AutoML_afbba018-e7b9-43d7-9ac2-b5478f6836fd\", \"categories\": [0], \"series\": [{\"data\": [0.9563653979339938]}]}, {\"name\": \"recall_score_micro\", \"run_id\": \"AutoML_afbba018-e7b9-43d7-9ac2-b5478f6836fd\", \"categories\": [0], \"series\": [{\"data\": [0.9186645843030448]}]}, {\"name\": \"norm_macro_recall\", \"run_id\": \"AutoML_afbba018-e7b9-43d7-9ac2-b5478f6836fd\", \"categories\": [0], \"series\": [{\"data\": [0.5665704628443453]}]}, {\"name\": \"log_loss\", \"run_id\": \"AutoML_afbba018-e7b9-43d7-9ac2-b5478f6836fd\", \"categories\": [0], \"series\": [{\"data\": [0.2531549290617521]}]}, {\"name\": \"AUC_macro\", \"run_id\": \"AutoML_afbba018-e7b9-43d7-9ac2-b5478f6836fd\", \"categories\": [0], \"series\": [{\"data\": [0.9484796577079934]}]}, {\"name\": \"f1_score_micro\", \"run_id\": \"AutoML_afbba018-e7b9-43d7-9ac2-b5478f6836fd\", \"categories\": [0], \"series\": [{\"data\": [0.9186645843030448]}]}, {\"name\": \"precision_score_micro\", \"run_id\": \"AutoML_afbba018-e7b9-43d7-9ac2-b5478f6836fd\", \"categories\": [0], \"series\": [{\"data\": [0.9186645843030448]}]}, {\"name\": \"accuracy\", \"run_id\": \"AutoML_afbba018-e7b9-43d7-9ac2-b5478f6836fd\", \"categories\": [0], \"series\": [{\"data\": [0.9186645843030448]}]}, {\"name\": \"balanced_accuracy\", \"run_id\": \"AutoML_afbba018-e7b9-43d7-9ac2-b5478f6836fd\", \"categories\": [0], \"series\": [{\"data\": [0.7832852314221727]}]}], \"run_logs\": \"\\nRun is completed.\", \"graph\": {}, \"widget_settings\": {\"childWidgetDisplay\": \"popup\", \"send_telemetry\": false, \"log_level\": \"INFO\", \"sdk_version\": \"1.51.0\"}, \"loading\": false}"
     },
     "metadata": {},
     "output_type": "display_data"
    },
    {
     "data": {
      "text/html": [
       "<table style=\"width:100%\"><tr><th>Experiment</th><th>Id</th><th>Type</th><th>Status</th><th>Details Page</th><th>Docs Page</th></tr><tr><td>udacity-project</td><td>AutoML_afbba018-e7b9-43d7-9ac2-b5478f6836fd</td><td>automl</td><td>NotStarted</td><td><a href=\"https://ml.azure.com/runs/AutoML_afbba018-e7b9-43d7-9ac2-b5478f6836fd?wsid=/subscriptions/c5da1480-248e-4cc5-ba27-697bc9911ecf/resourcegroups/udacity-demo/workspaces/udacity-demo&amp;tid=db05faca-c82a-4b9d-b9c5-0f64b6755421\" target=\"_blank\" rel=\"noopener\">Link to Azure Machine Learning studio</a></td><td><a href=\"https://docs.microsoft.com/en-us/python/api/overview/azure/ml/intro?view=azure-ml-py\" target=\"_blank\" rel=\"noopener\">Link to Documentation</a></td></tr></table>"
      ]
     },
     "metadata": {},
     "output_type": "display_data"
    },
    {
     "name": "stdout",
     "output_type": "stream",
     "text": [
      "\n",
      "Current status: FeaturesGeneration. Generating features for the dataset.\n",
      "Current status: DatasetFeaturization. Beginning to fit featurizers and featurize the dataset.\n",
      "Current status: DatasetBalancing. Performing class balancing sweeping\n",
      "Current status: DatasetCrossValidationSplit. Generating individually featurized CV splits.\n",
      "Current status: ModelSelection. Beginning model selection.\n",
      "\n",
      "********************************************************************************************\n",
      "DATA GUARDRAILS: \n",
      "\n",
      "TYPE:         Class balancing detection\n",
      "STATUS:       ALERTED\n",
      "DESCRIPTION:  To decrease model bias, please cancel the current run and fix balancing problem.\n",
      "              Learn more about imbalanced data: https://aka.ms/AutomatedMLImbalancedData\n",
      "DETAILS:      Imbalanced data can lead to a falsely perceived positive effect of a model's accuracy because the input data has bias towards one class.\n",
      "+------------------------------+--------------------------------+--------------------------------------+\n",
      "|Size of the smallest class    |Name/Label of the smallest class|Number of samples in the training data|\n",
      "+==============================+================================+======================================+\n",
      "|3692                          |yes                             |32950                                 |\n",
      "+------------------------------+--------------------------------+--------------------------------------+\n",
      "\n",
      "********************************************************************************************\n",
      "\n",
      "TYPE:         Missing feature values imputation\n",
      "STATUS:       PASSED\n",
      "DESCRIPTION:  No feature missing values were detected in the training data.\n",
      "              Learn more about missing value imputation: https://aka.ms/AutomatedMLFeaturization\n",
      "\n",
      "********************************************************************************************\n",
      "\n",
      "TYPE:         High cardinality feature detection\n",
      "STATUS:       PASSED\n",
      "DESCRIPTION:  Your inputs were analyzed, and no high cardinality features were detected.\n",
      "              Learn more about high cardinality feature handling: https://aka.ms/AutomatedMLFeaturization\n",
      "\n",
      "********************************************************************************************\n",
      "\n",
      "********************************************************************************************\n",
      "ITER: The iteration being evaluated.\n",
      "PIPELINE: A summary description of the pipeline being evaluated.\n",
      "DURATION: Time taken for the current iteration.\n",
      "METRIC: The result of computing score on the fitted pipeline.\n",
      "BEST: The best observed score thus far.\n",
      "********************************************************************************************\n",
      "\n",
      " ITER   PIPELINE                                       DURATION            METRIC      BEST\n",
      "    0   MaxAbsScaler LightGBM                          0:00:14             0.9152    0.9152\n",
      "    1   MaxAbsScaler XGBoostClassifier                 0:00:20             0.9113    0.9152\n",
      "    2   MaxAbsScaler ExtremeRandomTrees                0:00:15             0.7277    0.9152\n",
      "    3   SparseNormalizer XGBoostClassifier             0:00:16             0.9146    0.9152\n",
      "    4   MaxAbsScaler LightGBM                          0:00:11             0.9138    0.9152\n",
      "    5   MaxAbsScaler LightGBM                          0:00:11             0.8883    0.9152\n",
      "    6   StandardScalerWrapper XGBoostClassifier        0:00:13             0.9081    0.9152\n",
      "    7   MaxAbsScaler LogisticRegression                0:00:14             0.9084    0.9152\n",
      "    8   StandardScalerWrapper ExtremeRandomTrees       0:00:12             0.8889    0.9152\n",
      "    9   StandardScalerWrapper XGBoostClassifier        0:00:12             0.9130    0.9152\n",
      "   10   SparseNormalizer LightGBM                      0:00:11             0.9052    0.9152\n",
      "   11   StandardScalerWrapper XGBoostClassifier        0:00:12             0.9132    0.9152\n",
      "   12   MaxAbsScaler LogisticRegression                0:00:14             0.9088    0.9152\n",
      "   13   MaxAbsScaler SGD                               0:00:11             0.8539    0.9152\n",
      "   14   StandardScalerWrapper XGBoostClassifier        0:00:13             0.9137    0.9152\n",
      "   15   SparseNormalizer RandomForest                  0:00:25             0.8170    0.9152\n",
      "   16   StandardScalerWrapper LogisticRegression       0:00:11             0.9081    0.9152\n",
      "   17   StandardScalerWrapper RandomForest             0:00:16             0.9009    0.9152\n",
      "   18   StandardScalerWrapper XGBoostClassifier        0:00:14             0.9120    0.9152\n",
      "   19   TruncatedSVDWrapper RandomForest               0:01:46             0.8147    0.9152\n",
      "   20   TruncatedSVDWrapper RandomForest               0:02:56             0.8307    0.9152\n",
      "   21   StandardScalerWrapper XGBoostClassifier        0:00:30             0.9134    0.9152\n",
      "   22   StandardScalerWrapper LightGBM                 0:00:34             0.9148    0.9152\n",
      "   23   MaxAbsScaler LightGBM                          0:00:28             0.8880    0.9152\n",
      "   24   StandardScalerWrapper XGBoostClassifier        0:00:52             0.9154    0.9154\n",
      "   25   StandardScalerWrapper XGBoostClassifier        0:00:28             0.8880    0.9154\n",
      "   26   MaxAbsScaler LightGBM                          0:00:30             0.9112    0.9154\n",
      "   27   StandardScalerWrapper XGBoostClassifier        0:00:54             0.9104    0.9154\n",
      "   28   StandardScalerWrapper LightGBM                 0:00:29             0.9098    0.9154\n",
      "   29    VotingEnsemble                                0:01:02             0.9187    0.9187\n",
      "   30    StackEnsemble                                 0:01:08             0.9160    0.9187\n",
      "started running auto ml\n"
     ]
    }
   ],
   "source": [
    "# Submit your automl run\n",
    "\n",
    "### YOUR CODE HERE ###\n",
    "from azureml.widgets import RunDetails\n",
    "remote_run=exp.submit(automl_config)\n",
    "RunDetails(remote_run).show()\n",
    "remote_run.wait_for_completion(show_output=True)\n",
    "print(\"started running auto ml\")"
   ]
  },
  {
   "cell_type": "code",
   "execution_count": 7,
   "metadata": {
    "gather": {
     "logged": 1598275726969
    },
    "jupyter": {
     "outputs_hidden": false,
     "source_hidden": false
    },
    "nteract": {
     "transient": {
      "deleting": false
     }
    },
    "scrolled": true
   },
   "outputs": [
    {
     "name": "stderr",
     "output_type": "stream",
     "text": [
      "WARNING:root:The version of the SDK does not match the version the model was trained on.\n",
      "WARNING:root:The consistency in the result may not be guaranteed.\n",
      "WARNING:root:Package:azureml-automl-core, training version:1.52.0.post1, current version:1.51.0.post1\n",
      "Package:azureml-automl-runtime, training version:1.52.0.post1, current version:1.51.0.post1\n",
      "Package:azureml-core, training version:1.52.0, current version:1.51.0\n",
      "Package:azureml-dataprep, training version:4.11.4, current version:4.10.8\n",
      "Package:azureml-dataprep-rslex, training version:2.18.4, current version:2.17.12\n",
      "Package:azureml-dataset-runtime, training version:1.52.0, current version:1.51.0\n",
      "Package:azureml-defaults, training version:1.52.0, current version:1.51.0\n",
      "Package:azureml-interpret, training version:1.52.0, current version:1.51.0\n",
      "Package:azureml-mlflow, training version:1.52.0, current version:1.51.0\n",
      "Package:azureml-pipeline-core, training version:1.52.0, current version:1.51.0\n",
      "Package:azureml-responsibleai, training version:1.52.0, current version:1.51.0\n",
      "Package:azureml-telemetry, training version:1.52.0, current version:1.51.0\n",
      "Package:azureml-train-automl-client, training version:1.52.0, current version:1.51.0.post1\n",
      "Package:azureml-train-automl-runtime, training version:1.52.0, current version:1.51.0.post2\n",
      "Package:azureml-train-core, training version:1.52.0, current version:1.51.0\n",
      "Package:azureml-train-restclients-hyperdrive, training version:1.52.0, current version:1.51.0\n",
      "Package:azureml-training-tabular, training version:1.52.0, current version:1.51.0.post1\n",
      "WARNING:root:Please ensure the version of your local conda dependencies match the version on which your model was trained in order to properly retrieve your model.\n"
     ]
    },
    {
     "name": "stdout",
     "output_type": "stream",
     "text": [
      "Run(Experiment: udacity-project,\n",
      "Id: AutoML_afbba018-e7b9-43d7-9ac2-b5478f6836fd_29,\n",
      "Type: azureml.scriptrun,\n",
      "Status: Completed)\n"
     ]
    }
   ],
   "source": [
    "# Retrieve and save your best automl model.\n",
    "\n",
    "### YOUR CODE HERE ###\n",
    "bestrun, best_model = remote_run.get_output()\n",
    "print(bestrun)\n"
   ]
  },
  {
   "cell_type": "code",
   "execution_count": 9,
   "metadata": {
    "gather": {
     "logged": 1598275665403
    },
    "jupyter": {
     "outputs_hidden": false,
     "source_hidden": false
    },
    "nteract": {
     "transient": {
      "deleting": false
     }
    }
   },
   "outputs": [
    {
     "data": {
      "text/plain": [
       "['AUTOML.pkl']"
      ]
     },
     "execution_count": 9,
     "metadata": {},
     "output_type": "execute_result"
    }
   ],
   "source": [
    "import joblib\n",
    "\n",
    "#os.mkdir(\"model_output\")\n",
    "os.chdir(\"model_output\")\n",
    "joblib.dump(best_model,\"AUTOML.pkl\")"
   ]
  },
  {
   "cell_type": "code",
   "execution_count": null,
   "metadata": {
    "jupyter": {
     "outputs_hidden": false,
     "source_hidden": false
    },
    "nteract": {
     "transient": {
      "deleting": false
     }
    }
   },
   "outputs": [],
   "source": [
    "clusterhandler.delete()"
   ]
  },
  {
   "cell_type": "code",
   "execution_count": null,
   "metadata": {},
   "outputs": [],
   "source": [
    "# Retrieve and save your best automl model.\n"
   ]
  },
  {
   "cell_type": "code",
   "execution_count": null,
   "metadata": {},
   "outputs": [],
   "source": []
  }
 ],
 "metadata": {
  "kernel_info": {
   "name": "python3-azureml"
  },
  "kernelspec": {
   "display_name": "Python 3.8 - AzureML",
   "language": "python",
   "name": "python38-azureml"
  },
  "language_info": {
   "codemirror_mode": {
    "name": "ipython",
    "version": 3
   },
   "file_extension": ".py",
   "mimetype": "text/x-python",
   "name": "python",
   "nbconvert_exporter": "python",
   "pygments_lexer": "ipython3",
   "version": "3.8.5"
  },
  "nteract": {
   "version": "nteract-front-end@1.0.0"
  }
 },
 "nbformat": 4,
 "nbformat_minor": 2
}
